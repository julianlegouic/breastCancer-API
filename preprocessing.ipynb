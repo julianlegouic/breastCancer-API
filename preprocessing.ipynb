{
 "metadata": {
  "language_info": {
   "codemirror_mode": {
    "name": "ipython",
    "version": 3
   },
   "file_extension": ".py",
   "mimetype": "text/x-python",
   "name": "python",
   "nbconvert_exporter": "python",
   "pygments_lexer": "ipython3",
   "version": "3.6.9-final"
  },
  "orig_nbformat": 2,
  "kernelspec": {
   "name": "python36964bitcancerbreast01c7b7b61e2f47b6a067d8590345e85d",
   "display_name": "Python 3.6.9 64-bit ('cancerBreast')"
  }
 },
 "nbformat": 4,
 "nbformat_minor": 2,
 "cells": [
  {
   "cell_type": "code",
   "execution_count": 1,
   "metadata": {},
   "outputs": [],
   "source": [
    "#importing the libraries\n",
    "import pickle\n",
    "import pandas as pd\n",
    "import numpy as np\n",
    "from sklearn.datasets import load_breast_cancer\n",
    "from sklearn.preprocessing import LabelEncoder\n",
    "from sklearn.preprocessing import StandardScaler\n",
    "from sklearn.linear_model import LogisticRegression\n",
    "from sklearn.neighbors import KNeighborsClassifier\n",
    "from sklearn.svm import SVC\n",
    "from sklearn.naive_bayes import GaussianNB\n",
    "from sklearn.tree import DecisionTreeClassifier\n",
    "from sklearn.ensemble import RandomForestClassifier"
   ]
  },
  {
   "cell_type": "code",
   "execution_count": 74,
   "metadata": {},
   "outputs": [],
   "source": [
    "#importing our cancer dataset\n",
    "dataset = load_breast_cancer()\n",
    "col_names = ['radius', 'texture', 'perimeter', 'area', 'smoothness', 'compactness', 'concavity', 'concave_points', 'symmetry', 'fractal_dimension', 'radiusSE', 'textureSE', 'perimeterSE', 'areaSE', 'smoothnessSE', 'compactnessSE', 'concavitySE', 'concave_pointsSE', 'symmetrySE', 'fractal_dimensionSE', 'radiusW', 'textureW', 'perimeterW', 'areaW', 'smoothnessW', 'compactnessW', 'concavityW', 'concave_pointsW', 'symmetryW', 'fractal_dimensionW']\n",
    "X = pd.DataFrame(dataset['data'], columns=col_names)\n",
    "Y = pd.DataFrame(np.where(dataset['target']==0, 'malignant', 'benign'))\n",
    "features = X.columns\n",
    "pickle.dump(features, open('app/data/features.pickle', 'wb'))"
   ]
  },
  {
   "cell_type": "code",
   "execution_count": 75,
   "metadata": {},
   "outputs": [],
   "source": [
    "#Encoding categorical data values\n",
    "labelencoder_Y = LabelEncoder()\n",
    "Y = labelencoder_Y.fit_transform(Y)\n",
    "pickle.dump(labelencoder_Y, open('app/data/encoderLabel.pickle', 'wb'))"
   ]
  },
  {
   "cell_type": "code",
   "execution_count": 76,
   "metadata": {},
   "outputs": [],
   "source": [
    "#Feature Scalingfrom sklearn.preprocessing import StandardScaler\n",
    "sc = StandardScaler()\n",
    "X = sc.fit_transform(X)"
   ]
  },
  {
   "cell_type": "code",
   "execution_count": 77,
   "metadata": {},
   "outputs": [],
   "source": [
    "#Using Logistic Regression Algorithm to the Training Setfrom sklearn.linear_model import LogisticRegression\n",
    "logit = LogisticRegression(random_state = 0)\n",
    "logit.fit(X, Y)\n",
    "pickle.dump(logit, open('app/data/logit.pickle', 'wb'))"
   ]
  },
  {
   "cell_type": "code",
   "execution_count": 78,
   "metadata": {},
   "outputs": [],
   "source": [
    "#Using KNeighborsClassifier Method of neighbors class to use Nearest Neighbor algorithm\n",
    "knn = KNeighborsClassifier(n_neighbors = 5, metric = 'minkowski', p = 2)\n",
    "knn.fit(X, Y)\n",
    "pickle.dump(knn, open('app/data/knn.pickle', 'wb'))"
   ]
  },
  {
   "cell_type": "code",
   "execution_count": 79,
   "metadata": {},
   "outputs": [],
   "source": [
    "#Using SVC method of svm class to use Support Vector Machine Algorithm\n",
    "svc_linear = SVC(kernel = 'linear', random_state = 0)\n",
    "svc_linear.fit(X, Y)\n",
    "pickle.dump(svc_linear, open('app/data/svc_linear.pickle', 'wb'))"
   ]
  },
  {
   "cell_type": "code",
   "execution_count": 80,
   "metadata": {},
   "outputs": [],
   "source": [
    "#Using SVC method of svm class to use Kernel SVM Algorithm\n",
    "svc_rbf = SVC(kernel = 'rbf', random_state = 0)\n",
    "svc_rbf.fit(X, Y)\n",
    "pickle.dump(svc_rbf, open('app/data/svc_rbf.pickle', 'wb'))"
   ]
  },
  {
   "cell_type": "code",
   "execution_count": 81,
   "metadata": {},
   "outputs": [],
   "source": [
    "#Using GaussianNB method of naïve_bayes class to use Naïve Bayes Algorithm\n",
    "gaussian = GaussianNB()\n",
    "gaussian.fit(X, Y)\n",
    "pickle.dump(gaussian, open('app/data/gaussian.pickle', 'wb'))"
   ]
  },
  {
   "cell_type": "code",
   "execution_count": 82,
   "metadata": {},
   "outputs": [],
   "source": [
    "#Using DecisionTreeClassifier of tree class to use Decision Tree Algorithm\n",
    "decision_tree = DecisionTreeClassifier(criterion = 'entropy', random_state = 0)\n",
    "decision_tree.fit(X, Y)\n",
    "pickle.dump(decision_tree, open('app/data/decision_tree.pickle', 'wb'))"
   ]
  },
  {
   "cell_type": "code",
   "execution_count": 83,
   "metadata": {},
   "outputs": [],
   "source": [
    "#Using RandomForestClassifier method of ensemble class to use Random Forest Classification algorithm\n",
    "rf = RandomForestClassifier(n_estimators = 10, criterion = 'entropy', random_state = 0)\n",
    "rf.fit(X, Y)\n",
    "pickle.dump(rf, open('app/data/rf.pickle', 'wb'))"
   ]
  }
 ]
}
